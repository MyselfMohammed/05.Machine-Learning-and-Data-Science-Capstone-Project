{
 "cells": [
  {
   "cell_type": "markdown",
   "id": "b172b2a6",
   "metadata": {},
   "source": [
    "### Probability Density Function"
   ]
  },
  {
   "cell_type": "code",
   "execution_count": 1,
   "id": "b6bf3c78",
   "metadata": {},
   "outputs": [],
   "source": [
    "import pandas as pd"
   ]
  },
  {
   "cell_type": "code",
   "execution_count": 2,
   "id": "e028e5dc",
   "metadata": {},
   "outputs": [
    {
     "data": {
      "text/html": [
       "<div>\n",
       "<style scoped>\n",
       "    .dataframe tbody tr th:only-of-type {\n",
       "        vertical-align: middle;\n",
       "    }\n",
       "\n",
       "    .dataframe tbody tr th {\n",
       "        vertical-align: top;\n",
       "    }\n",
       "\n",
       "    .dataframe thead th {\n",
       "        text-align: right;\n",
       "    }\n",
       "</style>\n",
       "<table border=\"1\" class=\"dataframe\">\n",
       "  <thead>\n",
       "    <tr style=\"text-align: right;\">\n",
       "      <th></th>\n",
       "      <th>symbol</th>\n",
       "      <th>Date</th>\n",
       "      <th>Time - 24 Hour Format</th>\n",
       "      <th>Time - 12 Hour Format</th>\n",
       "      <th>volume</th>\n",
       "      <th>open</th>\n",
       "      <th>Close Minus Open</th>\n",
       "      <th>Adj Close Minus Open</th>\n",
       "      <th>Close Minus Adj Close</th>\n",
       "      <th>High Minus Open</th>\n",
       "      <th>High Minus Close</th>\n",
       "      <th>High Minus Adj Close</th>\n",
       "      <th>High Minus Low</th>\n",
       "      <th>close</th>\n",
       "      <th>adj_close</th>\n",
       "      <th>high</th>\n",
       "      <th>low</th>\n",
       "    </tr>\n",
       "  </thead>\n",
       "  <tbody>\n",
       "    <tr>\n",
       "      <th>0</th>\n",
       "      <td>BLY-USD</td>\n",
       "      <td>07-08-2020</td>\n",
       "      <td>00:00:00</td>\n",
       "      <td>12:00 AM</td>\n",
       "      <td>457741.0</td>\n",
       "      <td>0.039345</td>\n",
       "      <td>-0.011361</td>\n",
       "      <td>-0.011361</td>\n",
       "      <td>0.0</td>\n",
       "      <td>0.000035</td>\n",
       "      <td>0.011396</td>\n",
       "      <td>0.011396</td>\n",
       "      <td>0.011970</td>\n",
       "      <td>0.027984</td>\n",
       "      <td>0.027984</td>\n",
       "      <td>0.039380</td>\n",
       "      <td>0.027410</td>\n",
       "    </tr>\n",
       "    <tr>\n",
       "      <th>1</th>\n",
       "      <td>BLY-USD</td>\n",
       "      <td>08-08-2020</td>\n",
       "      <td>00:00:00</td>\n",
       "      <td>12:00 AM</td>\n",
       "      <td>339045.0</td>\n",
       "      <td>0.027906</td>\n",
       "      <td>-0.000211</td>\n",
       "      <td>-0.000211</td>\n",
       "      <td>0.0</td>\n",
       "      <td>0.000477</td>\n",
       "      <td>0.000688</td>\n",
       "      <td>0.000688</td>\n",
       "      <td>0.000741</td>\n",
       "      <td>0.027695</td>\n",
       "      <td>0.027695</td>\n",
       "      <td>0.028383</td>\n",
       "      <td>0.027642</td>\n",
       "    </tr>\n",
       "    <tr>\n",
       "      <th>2</th>\n",
       "      <td>BLY-USD</td>\n",
       "      <td>09-08-2020</td>\n",
       "      <td>00:00:00</td>\n",
       "      <td>12:00 AM</td>\n",
       "      <td>405214.0</td>\n",
       "      <td>0.027715</td>\n",
       "      <td>0.000071</td>\n",
       "      <td>0.000071</td>\n",
       "      <td>0.0</td>\n",
       "      <td>0.000250</td>\n",
       "      <td>0.000179</td>\n",
       "      <td>0.000179</td>\n",
       "      <td>0.001497</td>\n",
       "      <td>0.027786</td>\n",
       "      <td>0.027786</td>\n",
       "      <td>0.027965</td>\n",
       "      <td>0.026468</td>\n",
       "    </tr>\n",
       "    <tr>\n",
       "      <th>3</th>\n",
       "      <td>BLY-USD</td>\n",
       "      <td>10-08-2020</td>\n",
       "      <td>00:00:00</td>\n",
       "      <td>12:00 AM</td>\n",
       "      <td>452310.0</td>\n",
       "      <td>0.027835</td>\n",
       "      <td>-0.000978</td>\n",
       "      <td>-0.000978</td>\n",
       "      <td>0.0</td>\n",
       "      <td>0.001503</td>\n",
       "      <td>0.002481</td>\n",
       "      <td>0.002481</td>\n",
       "      <td>0.002486</td>\n",
       "      <td>0.026857</td>\n",
       "      <td>0.026857</td>\n",
       "      <td>0.029338</td>\n",
       "      <td>0.026852</td>\n",
       "    </tr>\n",
       "    <tr>\n",
       "      <th>4</th>\n",
       "      <td>BLY-USD</td>\n",
       "      <td>11-08-2020</td>\n",
       "      <td>00:00:00</td>\n",
       "      <td>12:00 AM</td>\n",
       "      <td>571556.0</td>\n",
       "      <td>0.026889</td>\n",
       "      <td>-0.000296</td>\n",
       "      <td>-0.000296</td>\n",
       "      <td>0.0</td>\n",
       "      <td>0.000368</td>\n",
       "      <td>0.000664</td>\n",
       "      <td>0.000664</td>\n",
       "      <td>0.001220</td>\n",
       "      <td>0.026593</td>\n",
       "      <td>0.026593</td>\n",
       "      <td>0.027257</td>\n",
       "      <td>0.026037</td>\n",
       "    </tr>\n",
       "  </tbody>\n",
       "</table>\n",
       "</div>"
      ],
      "text/plain": [
       "    symbol        Date Time - 24 Hour Format Time - 12 Hour Format    volume  \\\n",
       "0  BLY-USD  07-08-2020              00:00:00              12:00 AM  457741.0   \n",
       "1  BLY-USD  08-08-2020              00:00:00              12:00 AM  339045.0   \n",
       "2  BLY-USD  09-08-2020              00:00:00              12:00 AM  405214.0   \n",
       "3  BLY-USD  10-08-2020              00:00:00              12:00 AM  452310.0   \n",
       "4  BLY-USD  11-08-2020              00:00:00              12:00 AM  571556.0   \n",
       "\n",
       "       open  Close Minus Open  Adj Close Minus Open  Close Minus Adj Close  \\\n",
       "0  0.039345         -0.011361             -0.011361                    0.0   \n",
       "1  0.027906         -0.000211             -0.000211                    0.0   \n",
       "2  0.027715          0.000071              0.000071                    0.0   \n",
       "3  0.027835         -0.000978             -0.000978                    0.0   \n",
       "4  0.026889         -0.000296             -0.000296                    0.0   \n",
       "\n",
       "   High Minus Open  High Minus Close  High Minus Adj Close  High Minus Low  \\\n",
       "0         0.000035          0.011396              0.011396        0.011970   \n",
       "1         0.000477          0.000688              0.000688        0.000741   \n",
       "2         0.000250          0.000179              0.000179        0.001497   \n",
       "3         0.001503          0.002481              0.002481        0.002486   \n",
       "4         0.000368          0.000664              0.000664        0.001220   \n",
       "\n",
       "      close  adj_close      high       low  \n",
       "0  0.027984   0.027984  0.039380  0.027410  \n",
       "1  0.027695   0.027695  0.028383  0.027642  \n",
       "2  0.027786   0.027786  0.027965  0.026468  \n",
       "3  0.026857   0.026857  0.029338  0.026852  \n",
       "4  0.026593   0.026593  0.027257  0.026037  "
      ]
     },
     "execution_count": 2,
     "metadata": {},
     "output_type": "execute_result"
    }
   ],
   "source": [
    "dataset=pd.read_csv(\"Preprocessed_Data_Cryptos.csv\")\n",
    "dataset.head()"
   ]
  },
  {
   "cell_type": "code",
   "execution_count": 3,
   "id": "219b7625",
   "metadata": {},
   "outputs": [
    {
     "data": {
      "text/plain": [
       "symbol                   0\n",
       "Date                     0\n",
       "Time - 24 Hour Format    0\n",
       "Time - 12 Hour Format    0\n",
       "volume                   0\n",
       "open                     0\n",
       "Close Minus Open         0\n",
       "Adj Close Minus Open     0\n",
       "Close Minus Adj Close    0\n",
       "High Minus Open          0\n",
       "High Minus Close         0\n",
       "High Minus Adj Close     0\n",
       "High Minus Low           0\n",
       "close                    0\n",
       "adj_close                0\n",
       "high                     0\n",
       "low                      0\n",
       "dtype: int64"
      ]
     },
     "execution_count": 3,
     "metadata": {},
     "output_type": "execute_result"
    }
   ],
   "source": [
    "#Method-01, To check the Presence of Null values in Entire Dataset in Count, since having poor readability in Python\n",
    "dataset.isnull().sum()"
   ]
  },
  {
   "cell_type": "code",
   "execution_count": 4,
   "id": "b389262e",
   "metadata": {},
   "outputs": [],
   "source": [
    "import seaborn as sb"
   ]
  },
  {
   "cell_type": "code",
   "execution_count": 5,
   "id": "c080da96",
   "metadata": {},
   "outputs": [
    {
     "name": "stderr",
     "output_type": "stream",
     "text": [
      "C:\\Anaconda\\envs\\AI_ML\\lib\\site-packages\\ipykernel_launcher.py:1: UserWarning: \n",
      "\n",
      "`distplot` is a deprecated function and will be removed in seaborn v0.14.0.\n",
      "\n",
      "Please adapt your code to use either `displot` (a figure-level function with\n",
      "similar flexibility) or `histplot` (an axes-level function for histograms).\n",
      "\n",
      "For a guide to updating your code to use the new functions, please see\n",
      "https://gist.github.com/mwaskom/de44147ed2974457ad6372750bbe5751\n",
      "\n",
      "  \"\"\"Entry point for launching an IPython kernel.\n"
     ]
    },
    {
     "data": {
      "text/plain": [
       "<matplotlib.axes._subplots.AxesSubplot at 0x1d6c3146e48>"
      ]
     },
     "execution_count": 5,
     "metadata": {},
     "output_type": "execute_result"
    },
    {
     "data": {
      "image/png": "[encoded data removed]",
      "text/plain": [
       "<Figure size 640x480 with 1 Axes>"
      ]
     },
     "metadata": {},
     "output_type": "display_data"
    }
   ],
   "source": [
    "sb.distplot(dataset[\"open\"])"
   ]
  },
  {
   "cell_type": "code",
   "execution_count": 6,
   "id": "69d70897",
   "metadata": {},
   "outputs": [],
   "source": [
    "#!pip install statsmodels"
   ]
  },
  {
   "cell_type": "code",
   "execution_count": 6,
   "id": "16ed0755",
   "metadata": {},
   "outputs": [],
   "source": [
    "\"\"\"\n",
    "※※※※※※※※※※※※※※※※※※※※※※※※※※※※※※※※※※※※※※※※※※※※※※※※※※\n",
    "𝐂𝐫𝐞𝐚𝐭𝐢𝐧𝐠 𝐚 𝐅𝐮𝐧𝐜𝐭𝐢𝐨𝐧 ➖ 𝐠𝐞𝐭_𝐩𝐝𝐟_𝐩𝐫𝐨𝐛𝐚𝐛𝐢𝐥𝐢𝐭𝐲 ❪𝐃𝐚𝐭𝐚𝐬𝐞𝐭 Column Name 𝐚𝐬 𝐏𝐚𝐫𝐚𝐦𝐞𝐭𝐞𝐫❫\n",
    "𝐏𝐮𝐫𝐩𝐨𝐬𝐞 : 𝐓𝐨 𝐀𝐮𝐭𝐨𝐦𝐚𝐭𝐞 𝐭𝐨 𝐤𝐧𝐨𝐰 𝐄𝐱𝐢𝐬𝐭𝐢𝐧𝐠 𝐏𝐞𝐫𝐜𝐞𝐧𝐭𝐚𝐠𝐞 𝐰𝐢𝐭𝐡𝐢𝐧 𝐭𝐡𝐞 𝐆𝐢𝐯𝐞𝐧 𝐒𝐭𝐚𝐫𝐭 𝐚𝐧𝐝 𝐄𝐧𝐝 𝐑𝐚𝐧𝐠𝐞\n",
    "※※※※※※※※※※※※※※※※※※※※※※※※※※※※※※※※※※※※※※※※※※※※※※※※※※\n",
    "\"\"\"\n",
    "\n",
    "def get_pdf_probability (columnNameOfDataset,startRange,endRange):\n",
    "\n",
    "    \"\"\"1. Importing Necessary Libraries\"\"\"\n",
    "\n",
    "    #importing a module - pyplot from Library - matplotlib\n",
    "    #pyplot is used for plotting Graphs\n",
    "    from matplotlib import pyplot\n",
    "    \n",
    "    #importing a Class - norm from module - stats of Library - scipy \n",
    "    #norm helps to define the \"Normal Distribution\"\n",
    "    from scipy.stats import norm \n",
    "    \n",
    "    #importing Library - seaborn and assigning into a New Variable - sb\n",
    "    #seaborn is used for plotting the \"Probability Distribution\"\n",
    "    import seaborn as sb\n",
    "    \n",
    "    \"\"\"2. Plotting the Data Distribution\"\"\"  \n",
    "    \n",
    "    #It Plots a \"Histogram\" of the dataset with \"Kernel Density Estimation (KDE)\"\n",
    "    #Color of \"Kernel Density Estimation (KDE)\" will be \"Blue\"\n",
    "    #Color of \"Histogram Bars\" will be \"Yellow\"\n",
    "    data_distrubion = sb.distplot(columnNameOfDataset, kde=True, kde_kws={'color':'Blue'}, color='gold')\n",
    "    pyplot.axvline(startRange,color='Green')\n",
    "    pyplot.axvline(endRange,color='Red')\n",
    "    \n",
    "    \"\"\"3. Calculating Mean and Standard Deviation for Sample (Dataset)\"\"\"\n",
    "\n",
    "    #Creating a New variable - Sample and assigning dataset into it\n",
    "    sample = columnNameOfDataset\n",
    "    sample_Mean = sample.mean()\n",
    "    sample_StandardDeviation = sample.std()\n",
    "    print('Mean=%.3f, Standard Deviation=%.3f' % (sample_Mean, sample_StandardDeviation))\n",
    "\n",
    "    \"\"\"4. Defining the Normal Distribution\"\"\"\n",
    "    \n",
    "    # Normal distribution (dist) is calculated using the pre-calculated mean and standard deviation\n",
    "    norm_dist = norm(sample_Mean, sample_StandardDeviation)\n",
    "    \n",
    "    \"\"\"5. Calculating Probability for the Given Range\"\"\"\n",
    "    \n",
    "    # A list of values between startrange and endrange is created.\n",
    "    values = [value for value in range(startRange,endRange)]    \n",
    "    \n",
    "    # The Probability Density Function (PDF) is Calculated for each value.\n",
    "    probabilities = [norm_dist.pdf(value) for value in values] \n",
    "    \n",
    "    # Summing all the Calculated Probabilities\n",
    "    summed_probabilities = sum(probabilities)\n",
    "    \n",
    "    #Converting into Percentage and printing the same\n",
    "    probability_Percentage = (summed_probabilities * 100)\n",
    "    print(f\"Percentage of Area between the given Range ({startRange},{endRange}) : {probability_Percentage:.2f} %\")\n",
    "    \n",
    "    # Finally, the function Ends by returning the summed probability.\n",
    "    return probability_Percentage"
   ]
  },
  {
   "cell_type": "code",
   "execution_count": 7,
   "id": "7eda5cbf",
   "metadata": {},
   "outputs": [
    {
     "name": "stderr",
     "output_type": "stream",
     "text": [
      "C:\\Anaconda\\envs\\AI_ML\\lib\\site-packages\\ipykernel_launcher.py:29: UserWarning: \n",
      "\n",
      "`distplot` is a deprecated function and will be removed in seaborn v0.14.0.\n",
      "\n",
      "Please adapt your code to use either `displot` (a figure-level function with\n",
      "similar flexibility) or `histplot` (an axes-level function for histograms).\n",
      "\n",
      "For a guide to updating your code to use the new functions, please see\n",
      "https://gist.github.com/mwaskom/de44147ed2974457ad6372750bbe5751\n",
      "\n"
     ]
    },
    {
     "name": "stdout",
     "output_type": "stream",
     "text": [
      "Mean=375.328, Standard Deviation=4554.186\n",
      "Percentage of Area between the given Range (50,70) : 0.17 %\n"
     ]
    },
    {
     "data": {
      "text/plain": [
       "0.17477712439435428"
      ]
     },
     "execution_count": 7,
     "metadata": {},
     "output_type": "execute_result"
    },
    {
     "data": {
      "image/png": "[encoded data removed]",
      "text/plain": [
       "<Figure size 640x480 with 1 Axes>"
      ]
     },
     "metadata": {},
     "output_type": "display_data"
    }
   ],
   "source": [
    "#Calling the Created Function - get_pdf_probability (With Parameter(s) as input)\n",
    "\n",
    "get_pdf_probability (dataset[\"open\"],50,70)"
   ]
  },
  {
   "cell_type": "markdown",
   "id": "3b00704c",
   "metadata": {},
   "source": [
    "### Empirical Cumulative Density Function (ECDF)"
   ]
  },
  {
   "cell_type": "code",
   "execution_count": 8,
   "id": "cd2de0d4",
   "metadata": {},
   "outputs": [
    {
     "name": "stdout",
     "output_type": "stream",
     "text": [
      "Requirement already satisfied: statsmodels in c:\\anaconda\\envs\\ai_ml\\lib\\site-packages (0.13.5)\n",
      "Requirement already satisfied: scipy>=1.3 in c:\\anaconda\\envs\\ai_ml\\lib\\site-packages (from statsmodels) (1.7.3)\n",
      "Requirement already satisfied: packaging>=21.3 in c:\\anaconda\\envs\\ai_ml\\lib\\site-packages (from statsmodels) (24.0)\n",
      "Requirement already satisfied: pandas>=0.25 in c:\\anaconda\\envs\\ai_ml\\lib\\site-packages (from statsmodels) (0.25.3)\n",
      "Requirement already satisfied: numpy>=1.17 in c:\\anaconda\\envs\\ai_ml\\lib\\site-packages (from statsmodels) (1.17.4)\n",
      "Requirement already satisfied: patsy>=0.5.2 in c:\\anaconda\\envs\\ai_ml\\lib\\site-packages (from statsmodels) (1.0.1)\n",
      "Requirement already satisfied: python-dateutil>=2.6.1 in c:\\anaconda\\envs\\ai_ml\\lib\\site-packages (from pandas>=0.25->statsmodels) (2.9.0.post0)\n",
      "Requirement already satisfied: pytz>=2017.2 in c:\\anaconda\\envs\\ai_ml\\lib\\site-packages (from pandas>=0.25->statsmodels) (2024.2)\n",
      "Requirement already satisfied: six>=1.5 in c:\\anaconda\\envs\\ai_ml\\lib\\site-packages (from python-dateutil>=2.6.1->pandas>=0.25->statsmodels) (1.17.0)\n"
     ]
    }
   ],
   "source": [
    "#!pip install statsmodels"
   ]
  },
  {
   "cell_type": "code",
   "execution_count": 9,
   "id": "0f743b32",
   "metadata": {},
   "outputs": [],
   "source": [
    "\"\"\"\n",
    "※※※※※※※※※※※※※※※※※※※※※※※※※※※※※※※※※※※※※※※※※※※※※※※※※※※※\n",
    "𝐂𝐫𝐞𝐚𝐭𝐢𝐧𝐠 𝐚 𝐅𝐮𝐧𝐜𝐭𝐢𝐨𝐧 ➖ get_ECDF ❪𝐃𝐚𝐭𝐚𝐬𝐞𝐭 Column Name 𝐚𝐬 𝐏𝐚𝐫𝐚𝐦𝐞𝐭𝐞𝐫❫\n",
    "𝐏𝐮𝐫𝐩𝐨𝐬𝐞 : 𝐓𝐨 𝐀𝐮𝐭𝐨𝐦𝐚𝐭𝐞 𝐭𝐨 𝐤𝐧𝐨𝐰 Empirical Cumulative Density Function (ECDF) for 𝐆𝐢𝐯𝐞𝐧 𝐑𝐚𝐧𝐠𝐞\n",
    "※※※※※※※※※※※※※※※※※※※※※※※※※※※※※※※※※※※※※※※※※※※※※※※※※※※※\n",
    "\"\"\"\n",
    "\n",
    "def get_ECDF(columnNameOfDataset,range):\n",
    "\n",
    "    # importing a FUnction - ECDF from Class - emperical_distributions from Module - distribution of Library - statsmodel \n",
    "    from statsmodels.distributions.empirical_distribution import ECDF\n",
    "\n",
    "    # Calculating Empirical Cumulative Density Function (ECDF) for the Given Range\n",
    "    ecdf = ECDF(columnNameOfDataset)\n",
    "    calculated_ECDF = ecdf(range)\n",
    "\n",
    "    #Converting into Percentage and printing the same\n",
    "    ECDF_Percentage = (calculated_ECDF * 100)\n",
    "    print(f\"Percentage of Empirical Cumulative Density Function (ECDF) for the Given Range ({range}) : {ECDF_Percentage:.2f} %\")\n",
    "    \n",
    "    return calculated_ECDF"
   ]
  },
  {
   "cell_type": "code",
   "execution_count": 10,
   "id": "cb161470",
   "metadata": {},
   "outputs": [
    {
     "name": "stdout",
     "output_type": "stream",
     "text": [
      "Percentage of Empirical Cumulative Density Function (ECDF) for the Given Range (50) : 92.69 %\n"
     ]
    },
    {
     "data": {
      "text/plain": [
       "0.926853857459924"
      ]
     },
     "execution_count": 10,
     "metadata": {},
     "output_type": "execute_result"
    }
   ],
   "source": [
    "get_ECDF(dataset[\"open\"],50)"
   ]
  },
  {
   "cell_type": "code",
   "execution_count": 11,
   "id": "f133233a",
   "metadata": {},
   "outputs": [],
   "source": [
    "\"\"\"\n",
    "※※※※※※※※※※※※※※※※※※※※※※※※※※※※※※※※※※※※※※※※※※※※※※※※※※※※※※※※\n",
    "𝐂𝐫𝐞𝐚𝐭𝐢𝐧𝐠 𝐚 𝐅𝐮𝐧𝐜𝐭𝐢𝐨𝐧 ➖ stdNormalDistributionGraph ❪𝐃𝐚𝐭𝐚𝐬𝐞𝐭 Column Name 𝐚𝐬 𝐏𝐚𝐫𝐚𝐦𝐞𝐭𝐞𝐫❫\n",
    "𝐏𝐮𝐫𝐩𝐨𝐬𝐞 : 𝐓𝐨 𝐀𝐮𝐭𝐨𝐦𝐚𝐭𝐞 𝐭𝐨 Convert Normal Distribution To Standard Normal Distribution for 𝐆𝐢𝐯𝐞𝐧 𝐑𝐚𝐧𝐠𝐞\n",
    "※※※※※※※※※※※※※※※※※※※※※※※※※※※※※※※※※※※※※※※※※※※※※※※※※※※※※※※※\n",
    "\"\"\"\n",
    "\n",
    "def stdNormalDistributionGraph(columnNameOfDataset,range):\n",
    "    \n",
    "    \"\"\"1. Importing Necessary Libraries\"\"\"\n",
    "\n",
    "    #importing Library - seaborn and assigning into a New Variable - sb\n",
    "    #seaborn is used for plotting the \"Probability Distribution\"\n",
    "    import seaborn as sb\n",
    "      \n",
    "    \"\"\"2. Calculating Mean and Standard Deviation for Sample (columnNameOfDataset)\"\"\"\n",
    "\n",
    "    #Creating a New variable - Sample and assigning dataset into it\n",
    "    sample = columnNameOfDataset\n",
    "    sample_Mean = sample.mean()\n",
    "    sample_StandardDeviation = sample.std()\n",
    "    print('Mean=%.3f, Standard Deviation=%.3f' % (sample_Mean, sample_StandardDeviation))\n",
    "\n",
    "    \"\"\"3. Calculating Z-score for Sample (columnNameOfDataset)\"\"\"\n",
    "    \n",
    "    # A list of values for Sample (columnNameOfDataset) is created.\n",
    "    values = [value for value in columnNameOfDataset]    \n",
    "    \n",
    "    # Here, Calculating Z-score for Sample (columnNameOfDataset)\n",
    "    z_score = [((x-sample_Mean)/sample_StandardDeviation) for x in values]\n",
    "    \n",
    "    #Plotting Graph of Distance Plot Using Calculated Z-score\n",
    "    sb.distplot(z_score,kde=True)"
   ]
  },
  {
   "cell_type": "code",
   "execution_count": 12,
   "id": "e8d6c200",
   "metadata": {},
   "outputs": [
    {
     "name": "stdout",
     "output_type": "stream",
     "text": [
      "Mean=375.328, Standard Deviation=4554.186\n"
     ]
    },
    {
     "name": "stderr",
     "output_type": "stream",
     "text": [
      "C:\\Anaconda\\envs\\AI_ML\\lib\\site-packages\\ipykernel_launcher.py:33: UserWarning: \n",
      "\n",
      "`distplot` is a deprecated function and will be removed in seaborn v0.14.0.\n",
      "\n",
      "Please adapt your code to use either `displot` (a figure-level function with\n",
      "similar flexibility) or `histplot` (an axes-level function for histograms).\n",
      "\n",
      "For a guide to updating your code to use the new functions, please see\n",
      "https://gist.github.com/mwaskom/de44147ed2974457ad6372750bbe5751\n",
      "\n"
     ]
    },
    {
     "data": {
      "image/png": "[encoded data removed]",
      "text/plain": [
       "<Figure size 640x480 with 1 Axes>"
      ]
     },
     "metadata": {},
     "output_type": "display_data"
    }
   ],
   "source": [
    "stdNormalDistributionGraph(dataset[\"open\"],60)"
   ]
  },
  {
   "cell_type": "code",
   "execution_count": null,
   "id": "47e67af7",
   "metadata": {},
   "outputs": [],
   "source": []
  }
 ],
 "metadata": {
  "kernelspec": {
   "display_name": "Python 3 (ipykernel)",
   "language": "python",
   "name": "python3"
  },
  "language_info": {
   "codemirror_mode": {
    "name": "ipython",
    "version": 3
   },
   "file_extension": ".py",
   "mimetype": "text/x-python",
   "name": "python",
   "nbconvert_exporter": "python",
   "pygments_lexer": "ipython3",
   "version": "3.7.1"
  }
 },
 "nbformat": 4,
 "nbformat_minor": 5
}
