{
 "cells": [
  {
   "cell_type": "code",
   "execution_count": 1,
   "id": "83bf6659",
   "metadata": {},
   "outputs": [],
   "source": [
    "import pandas as pd"
   ]
  },
  {
   "cell_type": "code",
   "execution_count": 2,
   "id": "02d1b770",
   "metadata": {},
   "outputs": [
    {
     "data": {
      "text/html": [
       "<div>\n",
       "<style scoped>\n",
       "    .dataframe tbody tr th:only-of-type {\n",
       "        vertical-align: middle;\n",
       "    }\n",
       "\n",
       "    .dataframe tbody tr th {\n",
       "        vertical-align: top;\n",
       "    }\n",
       "\n",
       "    .dataframe thead th {\n",
       "        text-align: right;\n",
       "    }\n",
       "</style>\n",
       "<table border=\"1\" class=\"dataframe\">\n",
       "  <thead>\n",
       "    <tr style=\"text-align: right;\">\n",
       "      <th></th>\n",
       "      <th>symbol</th>\n",
       "      <th>Date</th>\n",
       "      <th>Time - 24 Hour Format</th>\n",
       "      <th>Time - 12 Hour Format</th>\n",
       "      <th>volume</th>\n",
       "      <th>open</th>\n",
       "      <th>Close Minus Open</th>\n",
       "      <th>Adj Close Minus Open</th>\n",
       "      <th>Close Minus Adj Close</th>\n",
       "      <th>High Minus Open</th>\n",
       "      <th>High Minus Close</th>\n",
       "      <th>High Minus Adj Close</th>\n",
       "      <th>High Minus Low</th>\n",
       "      <th>close</th>\n",
       "      <th>adj_close</th>\n",
       "      <th>high</th>\n",
       "      <th>low</th>\n",
       "    </tr>\n",
       "  </thead>\n",
       "  <tbody>\n",
       "    <tr>\n",
       "      <th>0</th>\n",
       "      <td>BLY-USD</td>\n",
       "      <td>07-08-2020</td>\n",
       "      <td>00:00:00</td>\n",
       "      <td>12:00 AM</td>\n",
       "      <td>457741.0</td>\n",
       "      <td>0.039345</td>\n",
       "      <td>-0.011361</td>\n",
       "      <td>-0.011361</td>\n",
       "      <td>0.0</td>\n",
       "      <td>0.000035</td>\n",
       "      <td>0.011396</td>\n",
       "      <td>0.011396</td>\n",
       "      <td>0.011970</td>\n",
       "      <td>0.027984</td>\n",
       "      <td>0.027984</td>\n",
       "      <td>0.039380</td>\n",
       "      <td>0.027410</td>\n",
       "    </tr>\n",
       "    <tr>\n",
       "      <th>1</th>\n",
       "      <td>BLY-USD</td>\n",
       "      <td>08-08-2020</td>\n",
       "      <td>00:00:00</td>\n",
       "      <td>12:00 AM</td>\n",
       "      <td>339045.0</td>\n",
       "      <td>0.027906</td>\n",
       "      <td>-0.000211</td>\n",
       "      <td>-0.000211</td>\n",
       "      <td>0.0</td>\n",
       "      <td>0.000477</td>\n",
       "      <td>0.000688</td>\n",
       "      <td>0.000688</td>\n",
       "      <td>0.000741</td>\n",
       "      <td>0.027695</td>\n",
       "      <td>0.027695</td>\n",
       "      <td>0.028383</td>\n",
       "      <td>0.027642</td>\n",
       "    </tr>\n",
       "    <tr>\n",
       "      <th>2</th>\n",
       "      <td>BLY-USD</td>\n",
       "      <td>09-08-2020</td>\n",
       "      <td>00:00:00</td>\n",
       "      <td>12:00 AM</td>\n",
       "      <td>405214.0</td>\n",
       "      <td>0.027715</td>\n",
       "      <td>0.000071</td>\n",
       "      <td>0.000071</td>\n",
       "      <td>0.0</td>\n",
       "      <td>0.000250</td>\n",
       "      <td>0.000179</td>\n",
       "      <td>0.000179</td>\n",
       "      <td>0.001497</td>\n",
       "      <td>0.027786</td>\n",
       "      <td>0.027786</td>\n",
       "      <td>0.027965</td>\n",
       "      <td>0.026468</td>\n",
       "    </tr>\n",
       "    <tr>\n",
       "      <th>3</th>\n",
       "      <td>BLY-USD</td>\n",
       "      <td>10-08-2020</td>\n",
       "      <td>00:00:00</td>\n",
       "      <td>12:00 AM</td>\n",
       "      <td>452310.0</td>\n",
       "      <td>0.027835</td>\n",
       "      <td>-0.000978</td>\n",
       "      <td>-0.000978</td>\n",
       "      <td>0.0</td>\n",
       "      <td>0.001503</td>\n",
       "      <td>0.002481</td>\n",
       "      <td>0.002481</td>\n",
       "      <td>0.002486</td>\n",
       "      <td>0.026857</td>\n",
       "      <td>0.026857</td>\n",
       "      <td>0.029338</td>\n",
       "      <td>0.026852</td>\n",
       "    </tr>\n",
       "    <tr>\n",
       "      <th>4</th>\n",
       "      <td>BLY-USD</td>\n",
       "      <td>11-08-2020</td>\n",
       "      <td>00:00:00</td>\n",
       "      <td>12:00 AM</td>\n",
       "      <td>571556.0</td>\n",
       "      <td>0.026889</td>\n",
       "      <td>-0.000296</td>\n",
       "      <td>-0.000296</td>\n",
       "      <td>0.0</td>\n",
       "      <td>0.000368</td>\n",
       "      <td>0.000664</td>\n",
       "      <td>0.000664</td>\n",
       "      <td>0.001220</td>\n",
       "      <td>0.026593</td>\n",
       "      <td>0.026593</td>\n",
       "      <td>0.027257</td>\n",
       "      <td>0.026037</td>\n",
       "    </tr>\n",
       "  </tbody>\n",
       "</table>\n",
       "</div>"
      ],
      "text/plain": [
       "    symbol        Date Time - 24 Hour Format Time - 12 Hour Format    volume  \\\n",
       "0  BLY-USD  07-08-2020              00:00:00              12:00 AM  457741.0   \n",
       "1  BLY-USD  08-08-2020              00:00:00              12:00 AM  339045.0   \n",
       "2  BLY-USD  09-08-2020              00:00:00              12:00 AM  405214.0   \n",
       "3  BLY-USD  10-08-2020              00:00:00              12:00 AM  452310.0   \n",
       "4  BLY-USD  11-08-2020              00:00:00              12:00 AM  571556.0   \n",
       "\n",
       "       open  Close Minus Open  Adj Close Minus Open  Close Minus Adj Close  \\\n",
       "0  0.039345         -0.011361             -0.011361                    0.0   \n",
       "1  0.027906         -0.000211             -0.000211                    0.0   \n",
       "2  0.027715          0.000071              0.000071                    0.0   \n",
       "3  0.027835         -0.000978             -0.000978                    0.0   \n",
       "4  0.026889         -0.000296             -0.000296                    0.0   \n",
       "\n",
       "   High Minus Open  High Minus Close  High Minus Adj Close  High Minus Low  \\\n",
       "0         0.000035          0.011396              0.011396        0.011970   \n",
       "1         0.000477          0.000688              0.000688        0.000741   \n",
       "2         0.000250          0.000179              0.000179        0.001497   \n",
       "3         0.001503          0.002481              0.002481        0.002486   \n",
       "4         0.000368          0.000664              0.000664        0.001220   \n",
       "\n",
       "      close  adj_close      high       low  \n",
       "0  0.027984   0.027984  0.039380  0.027410  \n",
       "1  0.027695   0.027695  0.028383  0.027642  \n",
       "2  0.027786   0.027786  0.027965  0.026468  \n",
       "3  0.026857   0.026857  0.029338  0.026852  \n",
       "4  0.026593   0.026593  0.027257  0.026037  "
      ]
     },
     "execution_count": 2,
     "metadata": {},
     "output_type": "execute_result"
    }
   ],
   "source": [
    "dataset=pd.read_csv(\"Preprocessed_Data_Cryptos.csv\")\n",
    "dataset.head()"
   ]
  },
  {
   "cell_type": "code",
   "execution_count": 3,
   "id": "9ade3590",
   "metadata": {},
   "outputs": [
    {
     "name": "stdout",
     "output_type": "stream",
     "text": [
      "<class 'pandas.core.frame.DataFrame'>\n",
      "RangeIndex: 1048449 entries, 0 to 1048448\n",
      "Data columns (total 17 columns):\n",
      "symbol                   1048449 non-null object\n",
      "Date                     1048449 non-null object\n",
      "Time - 24 Hour Format    1048449 non-null object\n",
      "Time - 12 Hour Format    1048449 non-null object\n",
      "volume                   1048449 non-null float64\n",
      "open                     1048449 non-null float64\n",
      "Close Minus Open         1048449 non-null float64\n",
      "Adj Close Minus Open     1048449 non-null float64\n",
      "Close Minus Adj Close    1048449 non-null float64\n",
      "High Minus Open          1048449 non-null float64\n",
      "High Minus Close         1048449 non-null float64\n",
      "High Minus Adj Close     1048449 non-null float64\n",
      "High Minus Low           1048449 non-null float64\n",
      "close                    1048449 non-null float64\n",
      "adj_close                1048449 non-null float64\n",
      "high                     1048449 non-null float64\n",
      "low                      1048449 non-null float64\n",
      "dtypes: float64(13), object(4)\n",
      "memory usage: 136.0+ MB\n"
     ]
    }
   ],
   "source": [
    "dataset.info()"
   ]
  },
  {
   "cell_type": "code",
   "execution_count": 4,
   "id": "c5b9971a",
   "metadata": {},
   "outputs": [],
   "source": [
    "#Quan=[\"ssc_p\",\"hsc_p\",\"etest_p\",\"degree_p\",\"mba_p\",\"salary\"]\n",
    "#Qual=[\"gender\",\"ssc_b\",\"hsc_b\",\"degree_t\"]"
   ]
  },
  {
   "cell_type": "code",
   "execution_count": 5,
   "id": "e0e7d242",
   "metadata": {},
   "outputs": [
    {
     "data": {
      "text/plain": [
       "Index(['symbol', 'Date', 'Time - 24 Hour Format', 'Time - 12 Hour Format',\n",
       "       'volume', 'open', 'Close Minus Open', 'Adj Close Minus Open',\n",
       "       'Close Minus Adj Close', 'High Minus Open', 'High Minus Close',\n",
       "       'High Minus Adj Close', 'High Minus Low', 'close', 'adj_close', 'high',\n",
       "       'low'],\n",
       "      dtype='object')"
      ]
     },
     "execution_count": 5,
     "metadata": {},
     "output_type": "execute_result"
    }
   ],
   "source": [
    "dataset.columns"
   ]
  },
  {
   "cell_type": "code",
   "execution_count": 6,
   "id": "eedc958e",
   "metadata": {},
   "outputs": [
    {
     "name": "stdout",
     "output_type": "stream",
     "text": [
      "symbol\n",
      "Date\n",
      "Time - 24 Hour Format\n",
      "Time - 12 Hour Format\n",
      "volume\n",
      "open\n",
      "Close Minus Open\n",
      "Adj Close Minus Open\n",
      "Close Minus Adj Close\n",
      "High Minus Open\n",
      "High Minus Close\n",
      "High Minus Adj Close\n",
      "High Minus Low\n",
      "close\n",
      "adj_close\n",
      "high\n",
      "low\n"
     ]
    }
   ],
   "source": [
    "for columnName in dataset.columns:\n",
    "    print(columnName)"
   ]
  },
  {
   "cell_type": "code",
   "execution_count": 7,
   "id": "67b5e6fb",
   "metadata": {},
   "outputs": [
    {
     "name": "stdout",
     "output_type": "stream",
     "text": [
      "quan\n"
     ]
    }
   ],
   "source": [
    "if(dataset[\"open\"].dtype=='O'):\n",
    "    print(\"qual\")\n",
    "else:\n",
    "    print(\"quan\")"
   ]
  },
  {
   "cell_type": "code",
   "execution_count": 8,
   "id": "53f30820",
   "metadata": {},
   "outputs": [],
   "source": [
    "quan=[]\n",
    "qual=[]\n",
    "\n",
    "for columnName in dataset.columns:\n",
    "    #print(columnName)\n",
    "    if(dataset[columnName].dtype=='O'):\n",
    "        #print(\"qual\")\n",
    "        qual.append(columnName)\n",
    "    else:\n",
    "        #print(\"quan\")\n",
    "        quan.append(columnName)"
   ]
  },
  {
   "cell_type": "code",
   "execution_count": 9,
   "id": "ff673161",
   "metadata": {},
   "outputs": [
    {
     "data": {
      "text/plain": [
       "['volume',\n",
       " 'open',\n",
       " 'Close Minus Open',\n",
       " 'Adj Close Minus Open',\n",
       " 'Close Minus Adj Close',\n",
       " 'High Minus Open',\n",
       " 'High Minus Close',\n",
       " 'High Minus Adj Close',\n",
       " 'High Minus Low',\n",
       " 'close',\n",
       " 'adj_close',\n",
       " 'high',\n",
       " 'low']"
      ]
     },
     "execution_count": 9,
     "metadata": {},
     "output_type": "execute_result"
    }
   ],
   "source": [
    "quan"
   ]
  },
  {
   "cell_type": "code",
   "execution_count": 10,
   "id": "ec06fce4",
   "metadata": {},
   "outputs": [
    {
     "data": {
      "text/plain": [
       "['symbol', 'Date', 'Time - 24 Hour Format', 'Time - 12 Hour Format']"
      ]
     },
     "execution_count": 10,
     "metadata": {},
     "output_type": "execute_result"
    }
   ],
   "source": [
    "qual"
   ]
  },
  {
   "cell_type": "code",
   "execution_count": 11,
   "id": "401d5b0c",
   "metadata": {},
   "outputs": [],
   "source": [
    "def quanQual(dataset):\n",
    "    \n",
    "    quan=[]\n",
    "    qual=[]\n",
    "    \n",
    "    for columnName in dataset.columns:\n",
    "        #print(columnName)\n",
    "        if(dataset[columnName].dtype=='O'):\n",
    "            #print(\"qual\")\n",
    "            qual.append(columnName)\n",
    "        else:\n",
    "            #print(\"quan\")\n",
    "            quan.append(columnName)\n",
    "    return quan,qual"
   ]
  },
  {
   "cell_type": "code",
   "execution_count": 12,
   "id": "bdbc57f7",
   "metadata": {},
   "outputs": [
    {
     "data": {
      "text/plain": [
       "(['volume',\n",
       "  'open',\n",
       "  'Close Minus Open',\n",
       "  'Adj Close Minus Open',\n",
       "  'Close Minus Adj Close',\n",
       "  'High Minus Open',\n",
       "  'High Minus Close',\n",
       "  'High Minus Adj Close',\n",
       "  'High Minus Low',\n",
       "  'close',\n",
       "  'adj_close',\n",
       "  'high',\n",
       "  'low'],\n",
       " ['symbol', 'Date', 'Time - 24 Hour Format', 'Time - 12 Hour Format'])"
      ]
     },
     "execution_count": 12,
     "metadata": {},
     "output_type": "execute_result"
    }
   ],
   "source": [
    "quanQual(dataset)"
   ]
  },
  {
   "cell_type": "code",
   "execution_count": 13,
   "id": "81375588",
   "metadata": {},
   "outputs": [],
   "source": [
    "quan,qual = quanQual(dataset)"
   ]
  },
  {
   "cell_type": "code",
   "execution_count": 14,
   "id": "dc3f8de8",
   "metadata": {},
   "outputs": [
    {
     "data": {
      "text/plain": [
       "['volume',\n",
       " 'open',\n",
       " 'Close Minus Open',\n",
       " 'Adj Close Minus Open',\n",
       " 'Close Minus Adj Close',\n",
       " 'High Minus Open',\n",
       " 'High Minus Close',\n",
       " 'High Minus Adj Close',\n",
       " 'High Minus Low',\n",
       " 'close',\n",
       " 'adj_close',\n",
       " 'high',\n",
       " 'low']"
      ]
     },
     "execution_count": 14,
     "metadata": {},
     "output_type": "execute_result"
    }
   ],
   "source": [
    "quan"
   ]
  },
  {
   "cell_type": "code",
   "execution_count": 15,
   "id": "d73d1e80",
   "metadata": {},
   "outputs": [
    {
     "data": {
      "text/plain": [
       "['symbol', 'Date', 'Time - 24 Hour Format', 'Time - 12 Hour Format']"
      ]
     },
     "execution_count": 15,
     "metadata": {},
     "output_type": "execute_result"
    }
   ],
   "source": [
    "qual"
   ]
  },
  {
   "cell_type": "code",
   "execution_count": null,
   "id": "213c0047",
   "metadata": {},
   "outputs": [],
   "source": []
  }
 ],
 "metadata": {
  "kernelspec": {
   "display_name": "Python 3 (ipykernel)",
   "language": "python",
   "name": "python3"
  },
  "language_info": {
   "codemirror_mode": {
    "name": "ipython",
    "version": 3
   },
   "file_extension": ".py",
   "mimetype": "text/x-python",
   "name": "python",
   "nbconvert_exporter": "python",
   "pygments_lexer": "ipython3",
   "version": "3.7.1"
  }
 },
 "nbformat": 4,
 "nbformat_minor": 5
}
